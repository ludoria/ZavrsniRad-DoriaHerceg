{
 "cells": [
  {
   "cell_type": "code",
   "execution_count": 118,
   "metadata": {},
   "outputs": [],
   "source": [
    "import numpy as np\n",
    "import pandas as pd\n",
    "import matplotlib.pyplot as plt\n",
    "import seaborn as sns\n",
    "\n",
    "from sklearn.model_selection import train_test_split\n",
    "from sklearn.naive_bayes import ComplementNB, MultinomialNB, GaussianNB, CategoricalNB\n",
    "from sklearn.metrics import f1_score, precision_score, recall_score, accuracy_score\n",
    "from sklearn.model_selection import cross_validate"
   ]
  },
  {
   "cell_type": "code",
   "execution_count": 119,
   "metadata": {},
   "outputs": [
    {
     "data": {
      "text/html": [
       "<div>\n",
       "<style scoped>\n",
       "    .dataframe tbody tr th:only-of-type {\n",
       "        vertical-align: middle;\n",
       "    }\n",
       "\n",
       "    .dataframe tbody tr th {\n",
       "        vertical-align: top;\n",
       "    }\n",
       "\n",
       "    .dataframe thead th {\n",
       "        text-align: right;\n",
       "    }\n",
       "</style>\n",
       "<table border=\"1\" class=\"dataframe\">\n",
       "  <thead>\n",
       "    <tr style=\"text-align: right;\">\n",
       "      <th></th>\n",
       "      <th>Age</th>\n",
       "      <th>Sex</th>\n",
       "      <th>BP</th>\n",
       "      <th>Cholesterol</th>\n",
       "      <th>Na_to_K</th>\n",
       "      <th>Drug</th>\n",
       "    </tr>\n",
       "  </thead>\n",
       "  <tbody>\n",
       "    <tr>\n",
       "      <th>1</th>\n",
       "      <td>23</td>\n",
       "      <td>F</td>\n",
       "      <td>HIGH</td>\n",
       "      <td>HIGH</td>\n",
       "      <td>25.355</td>\n",
       "      <td>DrugY</td>\n",
       "    </tr>\n",
       "    <tr>\n",
       "      <th>2</th>\n",
       "      <td>47</td>\n",
       "      <td>M</td>\n",
       "      <td>LOW</td>\n",
       "      <td>HIGH</td>\n",
       "      <td>13.093</td>\n",
       "      <td>drugC</td>\n",
       "    </tr>\n",
       "    <tr>\n",
       "      <th>3</th>\n",
       "      <td>47</td>\n",
       "      <td>M</td>\n",
       "      <td>LOW</td>\n",
       "      <td>HIGH</td>\n",
       "      <td>10.114</td>\n",
       "      <td>drugC</td>\n",
       "    </tr>\n",
       "    <tr>\n",
       "      <th>4</th>\n",
       "      <td>28</td>\n",
       "      <td>F</td>\n",
       "      <td>NORMAL</td>\n",
       "      <td>HIGH</td>\n",
       "      <td>7.798</td>\n",
       "      <td>drugX</td>\n",
       "    </tr>\n",
       "    <tr>\n",
       "      <th>5</th>\n",
       "      <td>61</td>\n",
       "      <td>F</td>\n",
       "      <td>LOW</td>\n",
       "      <td>HIGH</td>\n",
       "      <td>18.043</td>\n",
       "      <td>DrugY</td>\n",
       "    </tr>\n",
       "  </tbody>\n",
       "</table>\n",
       "</div>"
      ],
      "text/plain": [
       "0 Age Sex      BP Cholesterol Na_to_K   Drug\n",
       "1  23   F    HIGH        HIGH  25.355  DrugY\n",
       "2  47   M     LOW        HIGH  13.093  drugC\n",
       "3  47   M     LOW        HIGH  10.114  drugC\n",
       "4  28   F  NORMAL        HIGH   7.798  drugX\n",
       "5  61   F     LOW        HIGH  18.043  DrugY"
      ]
     },
     "execution_count": 119,
     "metadata": {},
     "output_type": "execute_result"
    }
   ],
   "source": [
    "data = pd.read_csv('data/drug_train.csv', header=None);\n",
    "data.columns = data.iloc[0]\n",
    "data = data.drop(data.index[0])\n",
    "data.head()"
   ]
  },
  {
   "cell_type": "code",
   "execution_count": 120,
   "metadata": {},
   "outputs": [
    {
     "name": "stdout",
     "output_type": "stream",
     "text": [
      "<class 'pandas.core.frame.DataFrame'>\n",
      "RangeIndex: 200 entries, 1 to 200\n",
      "Data columns (total 6 columns):\n",
      " #   Column       Non-Null Count  Dtype \n",
      "---  ------       --------------  ----- \n",
      " 0   Age          200 non-null    object\n",
      " 1   Sex          200 non-null    object\n",
      " 2   BP           200 non-null    object\n",
      " 3   Cholesterol  200 non-null    object\n",
      " 4   Na_to_K      200 non-null    object\n",
      " 5   Drug         200 non-null    object\n",
      "dtypes: object(6)\n",
      "memory usage: 9.5+ KB\n",
      "Index(['Age', 'Sex', 'BP', 'Cholesterol', 'Na_to_K', 'Drug'], dtype='object', name=0)\n"
     ]
    }
   ],
   "source": [
    "data.info()\n",
    "print(data.columns)"
   ]
  },
  {
   "cell_type": "code",
   "execution_count": 121,
   "metadata": {},
   "outputs": [
    {
     "name": "stdout",
     "output_type": "stream",
     "text": [
      "column name: Sex, its unique values: ['F' 'M']\n",
      "column name: BP, its unique values: ['HIGH' 'LOW' 'NORMAL']\n",
      "column name: Cholesterol, its unique values: ['HIGH' 'NORMAL']\n",
      "column name: Drug, its unique values: ['DrugY' 'drugC' 'drugX' 'drugA' 'drugB']\n"
     ]
    }
   ],
   "source": [
    "for column in data.columns:\n",
    "    if data[column].nunique() <= 10:\n",
    "        print(f\"column name: {column}, its unique values: {data[column].unique()}\")"
   ]
  },
  {
   "cell_type": "code",
   "execution_count": 122,
   "metadata": {},
   "outputs": [],
   "source": [
    "# Change the string values of the columns to numbers\n",
    "data['Sex'] = data['Sex'].replace({'F': 0, 'M': 1})\n",
    "data['BP'] = data['BP'].replace({'LOW': 0, 'NORMAL': 1, 'HIGH': 2})\n",
    "data['Cholesterol'] = data['Cholesterol'].replace({'HIGH': 1, 'NORMAL': 0})\n",
    "data['Drug'] = data['Drug'].replace({'drugX': 0, 'DrugY': 1, 'drugA': 2, 'drugB': 3, 'drugC': 4})"
   ]
  },
  {
   "cell_type": "code",
   "execution_count": 123,
   "metadata": {},
   "outputs": [],
   "source": [
    "y = data[\"Drug\"]\n",
    "X = data.drop(columns=\"Drug\")"
   ]
  },
  {
   "cell_type": "code",
   "execution_count": 124,
   "metadata": {},
   "outputs": [],
   "source": [
    "X_train, X_test, y_train, y_test = train_test_split(X, y, train_size=0.7, random_state=32)"
   ]
  },
  {
   "cell_type": "code",
   "execution_count": 125,
   "metadata": {},
   "outputs": [],
   "source": [
    "def train_baseline_model(train, labels, model):\n",
    "    mdl = model()\n",
    "    mdl.fit(train, labels)\n",
    "    return mdl"
   ]
  },
  {
   "cell_type": "code",
   "execution_count": 126,
   "metadata": {},
   "outputs": [
    {
     "name": "stdout",
     "output_type": "stream",
     "text": [
      "ComplementNB = 0.65\n"
     ]
    }
   ],
   "source": [
    "#ComplementNB\n",
    "cmp_bl_mdl = train_baseline_model(X_train, y_train, ComplementNB)\n",
    "print(f'ComplementNB = {cmp_bl_mdl.score(X_test,y_test)}')"
   ]
  },
  {
   "cell_type": "code",
   "execution_count": 127,
   "metadata": {},
   "outputs": [
    {
     "name": "stdout",
     "output_type": "stream",
     "text": [
      "MultinomialNB = 0.7166666666666667\n"
     ]
    }
   ],
   "source": [
    "# MultinomialNB\n",
    "mul_bl_md2 = train_baseline_model(X_train, y_train, MultinomialNB)\n",
    "print(f'MultinomialNB = {mul_bl_md2.score(X_test,y_test)}') # 65%"
   ]
  },
  {
   "cell_type": "code",
   "execution_count": 128,
   "metadata": {},
   "outputs": [
    {
     "name": "stdout",
     "output_type": "stream",
     "text": [
      "GaussianNB = 0.8\n"
     ]
    }
   ],
   "source": [
    "#GaussianNB\n",
    "Gau_md = train_baseline_model(X_train, y_train, GaussianNB)\n",
    "print(f'GaussianNB = {Gau_md.score(X_test,y_test)}')"
   ]
  },
  {
   "cell_type": "code",
   "execution_count": 129,
   "metadata": {},
   "outputs": [],
   "source": [
    "def cross_val(model, X_train, y_train, folds=10):\n",
    "    scoring = {'acc': 'accuracy',\n",
    "           'prec_micro': 'precision_micro',\n",
    "           'rec_micro': 'recall_micro'}\n",
    "    scores = cross_validate(model, X_train, y_train, scoring=scoring,\n",
    "                         cv=folds, return_train_score=True)\n",
    "    return scores"
   ]
  },
  {
   "cell_type": "code",
   "execution_count": 130,
   "metadata": {},
   "outputs": [
    {
     "name": "stderr",
     "output_type": "stream",
     "text": [
      "/Library/Frameworks/Python.framework/Versions/3.10/lib/python3.10/site-packages/sklearn/model_selection/_split.py:700: UserWarning: The least populated class in y has only 3 members, which is less than n_splits=4.\n",
      "  warnings.warn(\n"
     ]
    },
    {
     "data": {
      "text/plain": [
       "0.7666666666666667"
      ]
     },
     "metadata": {},
     "output_type": "display_data"
    },
    {
     "data": {
      "text/plain": [
       "0.7666666666666667"
      ]
     },
     "metadata": {},
     "output_type": "display_data"
    },
    {
     "data": {
      "text/plain": [
       "0.7666666666666667"
      ]
     },
     "metadata": {},
     "output_type": "display_data"
    }
   ],
   "source": [
    "gas_cv_res = cross_val(Gau_md, X_test, y_test, 4)\n",
    "\n",
    "display(gas_cv_res['test_acc'].mean())\n",
    "display(gas_cv_res['test_prec_micro'].mean())\n",
    "display(gas_cv_res['test_rec_micro'].mean())"
   ]
  }
 ],
 "metadata": {
  "kernelspec": {
   "display_name": "Python 3.10.6 64-bit",
   "language": "python",
   "name": "python3"
  },
  "language_info": {
   "codemirror_mode": {
    "name": "ipython",
    "version": 3
   },
   "file_extension": ".py",
   "mimetype": "text/x-python",
   "name": "python",
   "nbconvert_exporter": "python",
   "pygments_lexer": "ipython3",
   "version": "3.10.6"
  },
  "orig_nbformat": 4,
  "vscode": {
   "interpreter": {
    "hash": "aee8b7b246df8f9039afb4144a1f6fd8d2ca17a180786b69acc140d282b71a49"
   }
  }
 },
 "nbformat": 4,
 "nbformat_minor": 2
}
