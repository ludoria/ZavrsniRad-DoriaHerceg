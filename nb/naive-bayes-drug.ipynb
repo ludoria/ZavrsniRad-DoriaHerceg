{
 "cells": [
  {
   "cell_type": "code",
   "execution_count": 91,
   "metadata": {},
   "outputs": [],
   "source": [
    "import numpy as np #linearna algebra\n",
    "import pandas as pd #obrada podataka\n",
    "import matplotlib.pyplot as plt #vizualizacija\n",
    "import seaborn as sns #vizualizacija\n",
    "\n",
    "from sklearn.model_selection import train_test_split\n",
    "from sklearn.naive_bayes import GaussianNB\n",
    "from sklearn.metrics import precision_score, accuracy_score\n",
    "from sklearn.metrics import confusion_matrix, classification_report\n",
    "from warnings import filterwarnings\n",
    "filterwarnings('ignore')"
   ]
  },
  {
   "cell_type": "code",
   "execution_count": 92,
   "metadata": {},
   "outputs": [
    {
     "data": {
      "text/html": [
       "<div>\n",
       "<style scoped>\n",
       "    .dataframe tbody tr th:only-of-type {\n",
       "        vertical-align: middle;\n",
       "    }\n",
       "\n",
       "    .dataframe tbody tr th {\n",
       "        vertical-align: top;\n",
       "    }\n",
       "\n",
       "    .dataframe thead th {\n",
       "        text-align: right;\n",
       "    }\n",
       "</style>\n",
       "<table border=\"1\" class=\"dataframe\">\n",
       "  <thead>\n",
       "    <tr style=\"text-align: right;\">\n",
       "      <th></th>\n",
       "      <th>Age</th>\n",
       "      <th>Sex</th>\n",
       "      <th>BP</th>\n",
       "      <th>Cholesterol</th>\n",
       "      <th>Na_to_K</th>\n",
       "      <th>Drug</th>\n",
       "    </tr>\n",
       "  </thead>\n",
       "  <tbody>\n",
       "    <tr>\n",
       "      <th>1</th>\n",
       "      <td>23</td>\n",
       "      <td>F</td>\n",
       "      <td>HIGH</td>\n",
       "      <td>HIGH</td>\n",
       "      <td>25.355</td>\n",
       "      <td>DrugY</td>\n",
       "    </tr>\n",
       "    <tr>\n",
       "      <th>2</th>\n",
       "      <td>47</td>\n",
       "      <td>M</td>\n",
       "      <td>LOW</td>\n",
       "      <td>HIGH</td>\n",
       "      <td>13.093</td>\n",
       "      <td>drugC</td>\n",
       "    </tr>\n",
       "    <tr>\n",
       "      <th>3</th>\n",
       "      <td>47</td>\n",
       "      <td>M</td>\n",
       "      <td>LOW</td>\n",
       "      <td>HIGH</td>\n",
       "      <td>10.114</td>\n",
       "      <td>drugC</td>\n",
       "    </tr>\n",
       "    <tr>\n",
       "      <th>4</th>\n",
       "      <td>28</td>\n",
       "      <td>F</td>\n",
       "      <td>NORMAL</td>\n",
       "      <td>HIGH</td>\n",
       "      <td>7.798</td>\n",
       "      <td>drugX</td>\n",
       "    </tr>\n",
       "    <tr>\n",
       "      <th>5</th>\n",
       "      <td>61</td>\n",
       "      <td>F</td>\n",
       "      <td>LOW</td>\n",
       "      <td>HIGH</td>\n",
       "      <td>18.043</td>\n",
       "      <td>DrugY</td>\n",
       "    </tr>\n",
       "  </tbody>\n",
       "</table>\n",
       "</div>"
      ],
      "text/plain": [
       "0 Age Sex      BP Cholesterol Na_to_K   Drug\n",
       "1  23   F    HIGH        HIGH  25.355  DrugY\n",
       "2  47   M     LOW        HIGH  13.093  drugC\n",
       "3  47   M     LOW        HIGH  10.114  drugC\n",
       "4  28   F  NORMAL        HIGH   7.798  drugX\n",
       "5  61   F     LOW        HIGH  18.043  DrugY"
      ]
     },
     "execution_count": 92,
     "metadata": {},
     "output_type": "execute_result"
    }
   ],
   "source": [
    "data = pd.read_csv('data/drug200.csv', header=None);\n",
    "data.columns = data.iloc[0]\n",
    "data = data.drop(data.index[0])\n",
    "data.head()"
   ]
  },
  {
   "cell_type": "code",
   "execution_count": 93,
   "metadata": {},
   "outputs": [
    {
     "data": {
      "image/png": "[encoded data removed]",
      "text/plain": [
       "<Figure size 640x480 with 1 Axes>"
      ]
     },
     "metadata": {},
     "output_type": "display_data"
    }
   ],
   "source": [
    "sns.countplot(x='Drug',data=data,hue='Drug')\n",
    "\n",
    "plt.title(\"Category Counts\")\n",
    "plt.ylabel(\"Count\")\n",
    "plt.show()"
   ]
  },
  {
   "cell_type": "code",
   "execution_count": 94,
   "metadata": {},
   "outputs": [
    {
     "name": "stdout",
     "output_type": "stream",
     "text": [
      "column name: Sex, its unique values: ['F' 'M']\n",
      "column name: BP, its unique values: ['HIGH' 'LOW' 'NORMAL']\n",
      "column name: Cholesterol, its unique values: ['HIGH' 'NORMAL']\n",
      "column name: Drug, its unique values: ['DrugY' 'drugC' 'drugX' 'drugA' 'drugB']\n"
     ]
    }
   ],
   "source": [
    "for column in data.columns:\n",
    "    if data[column].nunique() <= 10:\n",
    "        print(f\"column name: {column}, its unique values: {data[column].unique()}\")"
   ]
  },
  {
   "cell_type": "code",
   "execution_count": 95,
   "metadata": {},
   "outputs": [],
   "source": [
    "# Change the string values of the columns to numbers\n",
    "data['Sex'] = data['Sex'].replace({'F': 0, 'M': 1})\n",
    "data['BP'] = data['BP'].replace({'LOW': 0, 'NORMAL': 1, 'HIGH': 2})\n",
    "data['Cholesterol'] = data['Cholesterol'].replace({'HIGH': 1, 'NORMAL': 0})"
   ]
  },
  {
   "cell_type": "code",
   "execution_count": 96,
   "metadata": {},
   "outputs": [],
   "source": [
    "y = data[\"Drug\"]\n",
    "X = data.drop(columns=\"Drug\")"
   ]
  },
  {
   "cell_type": "code",
   "execution_count": 97,
   "metadata": {},
   "outputs": [],
   "source": [
    "X_train, X_test, y_train, y_test = train_test_split(X, y, train_size=0.7, random_state=32)"
   ]
  },
  {
   "cell_type": "code",
   "execution_count": 98,
   "metadata": {},
   "outputs": [
    {
     "name": "stdout",
     "output_type": "stream",
     "text": [
      "Naive Bayes classifier test accuracy = 0.8\n"
     ]
    }
   ],
   "source": [
    "nb = GaussianNB()\n",
    "nb.fit(X_train, y_train)\n",
    "y_scores = nb.predict(X_test)\n",
    "\n",
    "print(f'Naive Bayes classifier test accuracy = {nb.score(X_test,y_test)}')"
   ]
  },
  {
   "cell_type": "code",
   "execution_count": 99,
   "metadata": {},
   "outputs": [
    {
     "name": "stdout",
     "output_type": "stream",
     "text": [
      "Feature: Age, Importance Score: 0.12000000000000006\n",
      "Feature: Sex, Importance Score: -0.006666666666666643\n",
      "Feature: BP, Importance Score: 0.22833333333333342\n",
      "Feature: Cholesterol, Importance Score: 0.026666666666666707\n",
      "Feature: Na_to_K, Importance Score: 0.34\n"
     ]
    }
   ],
   "source": [
    "from sklearn.inspection import permutation_importance\n",
    "\n",
    "result = permutation_importance(nb, X_test, y_test, n_repeats=10, random_state=42)\n",
    "for i, feature_name in enumerate(X_test.columns):\n",
    "    importance_score = result.importances_mean[i]\n",
    "    print(f\"Feature: {feature_name}, Importance Score: {importance_score}\")"
   ]
  },
  {
   "cell_type": "code",
   "execution_count": 100,
   "metadata": {},
   "outputs": [
    {
     "name": "stdout",
     "output_type": "stream",
     "text": [
      "[[21  2  2  3  0]\n",
      " [ 0  8  0  0  0]\n",
      " [ 0  0  5  0  0]\n",
      " [ 0  0  0  3  0]\n",
      " [ 5  0  0  0 11]]\n",
      "              precision    recall  f1-score   support\n",
      "\n",
      "       DrugY       0.81      0.75      0.78        28\n",
      "       drugA       0.80      1.00      0.89         8\n",
      "       drugB       0.71      1.00      0.83         5\n",
      "       drugC       0.50      1.00      0.67         3\n",
      "       drugX       1.00      0.69      0.81        16\n",
      "\n",
      "    accuracy                           0.80        60\n",
      "   macro avg       0.76      0.89      0.80        60\n",
      "weighted avg       0.83      0.80      0.80        60\n",
      "\n"
     ]
    }
   ],
   "source": [
    "print( confusion_matrix(y_test, y_scores))\n",
    "print( classification_report(y_test, y_scores))"
   ]
  }
 ],
 "metadata": {
  "kernelspec": {
   "display_name": "Python 3.10.6 64-bit",
   "language": "python",
   "name": "python3"
  },
  "language_info": {
   "codemirror_mode": {
    "name": "ipython",
    "version": 3
   },
   "file_extension": ".py",
   "mimetype": "text/x-python",
   "name": "python",
   "nbconvert_exporter": "python",
   "pygments_lexer": "ipython3",
   "version": "3.10.6"
  },
  "orig_nbformat": 4,
  "vscode": {
   "interpreter": {
    "hash": "aee8b7b246df8f9039afb4144a1f6fd8d2ca17a180786b69acc140d282b71a49"
   }
  }
 },
 "nbformat": 4,
 "nbformat_minor": 2
}
