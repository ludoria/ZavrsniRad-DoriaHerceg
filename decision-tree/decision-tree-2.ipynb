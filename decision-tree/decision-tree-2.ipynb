{
 "cells": [
  {
   "cell_type": "code",
   "execution_count": 37,
   "metadata": {},
   "outputs": [
    {
     "data": {
      "text/html": [
       "<div>\n",
       "<style scoped>\n",
       "    .dataframe tbody tr th:only-of-type {\n",
       "        vertical-align: middle;\n",
       "    }\n",
       "\n",
       "    .dataframe tbody tr th {\n",
       "        vertical-align: top;\n",
       "    }\n",
       "\n",
       "    .dataframe thead th {\n",
       "        text-align: right;\n",
       "    }\n",
       "</style>\n",
       "<table border=\"1\" class=\"dataframe\">\n",
       "  <thead>\n",
       "    <tr style=\"text-align: right;\">\n",
       "      <th></th>\n",
       "      <th>Age</th>\n",
       "      <th>Sex</th>\n",
       "      <th>BP</th>\n",
       "      <th>Cholesterol</th>\n",
       "      <th>Na_to_K</th>\n",
       "      <th>Drug</th>\n",
       "    </tr>\n",
       "  </thead>\n",
       "  <tbody>\n",
       "    <tr>\n",
       "      <th>1</th>\n",
       "      <td>23</td>\n",
       "      <td>F</td>\n",
       "      <td>HIGH</td>\n",
       "      <td>HIGH</td>\n",
       "      <td>25.355</td>\n",
       "      <td>DrugY</td>\n",
       "    </tr>\n",
       "    <tr>\n",
       "      <th>2</th>\n",
       "      <td>47</td>\n",
       "      <td>M</td>\n",
       "      <td>LOW</td>\n",
       "      <td>HIGH</td>\n",
       "      <td>13.093</td>\n",
       "      <td>drugC</td>\n",
       "    </tr>\n",
       "    <tr>\n",
       "      <th>3</th>\n",
       "      <td>47</td>\n",
       "      <td>M</td>\n",
       "      <td>LOW</td>\n",
       "      <td>HIGH</td>\n",
       "      <td>10.114</td>\n",
       "      <td>drugC</td>\n",
       "    </tr>\n",
       "    <tr>\n",
       "      <th>4</th>\n",
       "      <td>28</td>\n",
       "      <td>F</td>\n",
       "      <td>NORMAL</td>\n",
       "      <td>HIGH</td>\n",
       "      <td>7.798</td>\n",
       "      <td>drugX</td>\n",
       "    </tr>\n",
       "    <tr>\n",
       "      <th>5</th>\n",
       "      <td>61</td>\n",
       "      <td>F</td>\n",
       "      <td>LOW</td>\n",
       "      <td>HIGH</td>\n",
       "      <td>18.043</td>\n",
       "      <td>DrugY</td>\n",
       "    </tr>\n",
       "  </tbody>\n",
       "</table>\n",
       "</div>"
      ],
      "text/plain": [
       "0 Age Sex      BP Cholesterol Na_to_K   Drug\n",
       "1  23   F    HIGH        HIGH  25.355  DrugY\n",
       "2  47   M     LOW        HIGH  13.093  drugC\n",
       "3  47   M     LOW        HIGH  10.114  drugC\n",
       "4  28   F  NORMAL        HIGH   7.798  drugX\n",
       "5  61   F     LOW        HIGH  18.043  DrugY"
      ]
     },
     "execution_count": 37,
     "metadata": {},
     "output_type": "execute_result"
    }
   ],
   "source": [
    "# Importing the required libraries\n",
    "import pandas as pd\n",
    "import numpy as np\n",
    "import math\n",
    "\n",
    "data = pd.read_csv('../nb/data/drug_train.csv', header=None)\n",
    "data.columns = data.iloc[0]\n",
    "data = data.drop(data.index[0])\n",
    "data.head()"
   ]
  },
  {
   "cell_type": "code",
   "execution_count": 38,
   "metadata": {},
   "outputs": [],
   "source": [
    "def find_entropy(data):\n",
    "    \"\"\"\n",
    "    Returns the entropy of the class or features\n",
    "    formula: - ∑ P(X)logP(X)\n",
    "    \"\"\"\n",
    "    entropy = 0\n",
    "    for i in range(data.nunique()):\n",
    "        x = data.value_counts()[i]/data.shape[0] \n",
    "        entropy += (- x * math.log(x,2))\n",
    "    return round(entropy,3)\n",
    "\n",
    "\n",
    "\n",
    "def information_gain(data, data_):\n",
    "    \"\"\"\n",
    "    Returns the information gain of the features\n",
    "    \"\"\"\n",
    "    info = 0\n",
    "    for i in range(data_.nunique()):\n",
    "        df = data[data_ == data_.unique()[i]]\n",
    "        w_avg = df.shape[0]/data.shape[0]\n",
    "        entropy = find_entropy(df.Drug)\n",
    "        x = w_avg * entropy\n",
    "        info += x\n",
    "    ig = find_entropy(data.Drug) - info\n",
    "    return round(ig, 3)   \n",
    "\n",
    "\n",
    "\n",
    "def entropy_and_infogain(datax, feature):\n",
    "    \"\"\"\n",
    "    Grouping features with the same class and computing their \n",
    "    entropy and information gain for splitting\n",
    "    \"\"\"\n",
    "    for i in range(data[feature].nunique()):\n",
    "        df = datax[datax[feature]==data[feature].unique()[i]]\n",
    "        if df.shape[0] < 1:\n",
    "            continue\n",
    "        \n",
    "        #print(f'Entropy of {feature} - {data[feature].unique()[i]} = {find_entropy(df.Drug)}')\n",
    "    print(f'Information Gain for {feature} = {information_gain(datax, datax[feature])}')"
   ]
  },
  {
   "cell_type": "code",
   "execution_count": 39,
   "metadata": {},
   "outputs": [
    {
     "name": "stdout",
     "output_type": "stream",
     "text": [
      "Entropy of the entire dataset: 1.969\n"
     ]
    }
   ],
   "source": [
    "print(f'Entropy of the entire dataset: {find_entropy(data.Drug)}')"
   ]
  },
  {
   "cell_type": "code",
   "execution_count": 40,
   "metadata": {},
   "outputs": [
    {
     "name": "stdout",
     "output_type": "stream",
     "text": [
      "Information Gain for Age = 0.704\n",
      "Information Gain for Sex = 0.008\n",
      "Information Gain for BP = 0.62\n",
      "Information Gain for Na_to_K = 1.959\n"
     ]
    }
   ],
   "source": [
    "entropy_and_infogain(data, 'Age')\n",
    "entropy_and_infogain(data, 'Sex')\n",
    "entropy_and_infogain(data, 'BP')\n",
    "entropy_and_infogain(data, 'Na_to_K')\n"
   ]
  }
 ],
 "metadata": {
  "kernelspec": {
   "display_name": "Python 3.10.6 64-bit",
   "language": "python",
   "name": "python3"
  },
  "language_info": {
   "codemirror_mode": {
    "name": "ipython",
    "version": 3
   },
   "file_extension": ".py",
   "mimetype": "text/x-python",
   "name": "python",
   "nbconvert_exporter": "python",
   "pygments_lexer": "ipython3",
   "version": "3.10.6"
  },
  "orig_nbformat": 4,
  "vscode": {
   "interpreter": {
    "hash": "aee8b7b246df8f9039afb4144a1f6fd8d2ca17a180786b69acc140d282b71a49"
   }
  }
 },
 "nbformat": 4,
 "nbformat_minor": 2
}
